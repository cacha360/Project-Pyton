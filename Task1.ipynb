{
  "nbformat": 4,
  "nbformat_minor": 0,
  "metadata": {
    "colab": {
      "provenance": [],
      "toc_visible": true
    },
    "kernelspec": {
      "name": "python3",
      "display_name": "Python 3"
    },
    "language_info": {
      "name": "python"
    }
  },
  "cells": [
    {
      "cell_type": "markdown",
      "source": [
        "# Задание 1: Типы и структуры данных"
      ],
      "metadata": {
        "id": "-EcVOVOFeCnd"
      }
    },
    {
      "cell_type": "markdown",
      "source": [
        "Написать программу, которая запрашивает у пользователя его имя, возраст и любимый цвет, затем выводит эту информацию обратно на экран в читаемом формате."
      ],
      "metadata": {
        "id": "Z9lRVYlfefZY"
      }
    },
    {
      "cell_type": "code",
      "execution_count": 3,
      "metadata": {
        "colab": {
          "base_uri": "https://localhost:8080/"
        },
        "id": "0BOB6bRJJCkn",
        "outputId": "d50ac746-ee23-44a7-9c49-fe41118d3514"
      },
      "outputs": [
        {
          "output_type": "stream",
          "name": "stdout",
          "text": [
            "Введите ваше имя: Саша\n",
            "Введите ваш возраст: 10\n",
            "Введите ваш любимый цвет: Зеленый\n",
            "Ваше имя: Саша Ваш возраст: 10 Ваш любимый цвет Зеленый\n"
          ]
        }
      ],
      "source": [
        "name = input(\"Введите ваше имя: \")\n",
        "age = input(\"Введите ваш возраст: \")\n",
        "color = input(\"Введите ваш любимый цвет: \")\n",
        "\n",
        "print(\"Ваше имя:\", name, \"Ваш возраст:\", age, \"Ваш любимый цвет:\", color)"
      ]
    },
    {
      "cell_type": "markdown",
      "source": [
        "# Задание 2: Типы и структуры данных"
      ],
      "metadata": {
        "id": "uMtNexWYhMOH"
      }
    },
    {
      "cell_type": "markdown",
      "source": [
        "Написать программу, которая создаёт список из чисел Фибоначчи до n-го элемента (значение n вводится пользователем) и выводит его."
      ],
      "metadata": {
        "id": "TzmjS-87hQ8F"
      }
    },
    {
      "cell_type": "code",
      "source": [
        "number = input(\"Введите до какого числа будет выведена последовательность Фибоначчи: \")\n",
        "\n",
        "current_number = 1\n",
        "past_number = 0\n",
        "\n",
        "if past_number < int(number): print(past_number)\n",
        "if current_number < int(number): print(current_number)\n",
        "while (current_number + past_number) < int(number):\n",
        "    print(current_number + past_number)\n",
        "    temp_number = past_number\n",
        "    past_number = current_number\n",
        "    current_number += temp_number"
      ],
      "metadata": {
        "colab": {
          "base_uri": "https://localhost:8080/"
        },
        "id": "AeyLk4MShQMZ",
        "outputId": "b05bf3a2-1d2c-450c-f0df-9df8db012a6a"
      },
      "execution_count": 12,
      "outputs": [
        {
          "output_type": "stream",
          "name": "stdout",
          "text": [
            "Введите до какого числа будет выведена последовательность Фибоначчи: 10\n",
            "0\n",
            "1\n",
            "1\n",
            "2\n",
            "3\n",
            "5\n",
            "8\n"
          ]
        }
      ]
    },
    {
      "cell_type": "markdown",
      "source": [
        "# Задание 3: Переменные и операторы"
      ],
      "metadata": {
        "id": "FeN3lrRRoLdV"
      }
    },
    {
      "cell_type": "markdown",
      "source": [
        "Написать калькулятор, который выполняет основные арифметические операции: сложение, вычитание, умножение и деление. Все операнды и операторы вводятся пользователем."
      ],
      "metadata": {
        "id": "iSucpHLpoUzA"
      }
    },
    {
      "cell_type": "code",
      "source": [
        "while 1:\n",
        "    print(\"Для выхода из программы при вводе операции введите (!)\")\n",
        "    operation = input(\"Введите операцию (+, -, *, /): \")\n",
        "    if operation == \"!\": break\n",
        "    first_number = int(input(\"Введите первое число: \"))\n",
        "    second_number = int(input(\"Введите второе число: \"))\n",
        "\n",
        "    if operation == \"+\": print(first_number + second_number)\n",
        "    if operation == \"-\": print(first_number - second_number)\n",
        "    if operation == \"*\": print(first_number * second_number)\n",
        "    if operation == \"/\": print(first_number / second_number)"
      ],
      "metadata": {
        "colab": {
          "base_uri": "https://localhost:8080/"
        },
        "id": "3ysRggC7oisW",
        "outputId": "1ef9f692-ab4e-4004-ff5e-c46530ddc306"
      },
      "execution_count": 15,
      "outputs": [
        {
          "name": "stdout",
          "output_type": "stream",
          "text": [
            "Для выхода из программы при вводе операции введите (!)\n",
            "Введите операцию (+, -, *, /): +\n",
            "Введите первое число: 1\n",
            "Введите второе число: 3\n",
            "4\n",
            "Для выхода из программы при вводе операции введите (!)\n",
            "Введите операцию (+, -, *, /): -\n",
            "Введите первое число: 1\n",
            "Введите второе число: 3\n",
            "-2\n",
            "Для выхода из программы при вводе операции введите (!)\n",
            "Введите операцию (+, -, *, /): *\n",
            "Введите первое число: 1\n",
            "Введите второе число: 3\n",
            "3\n",
            "Для выхода из программы при вводе операции введите (!)\n",
            "Введите операцию (+, -, *, /): /\n",
            "Введите первое число: 1\n",
            "Введите второе число: 3\n",
            "0.3333333333333333\n",
            "Для выхода из программы при вводе операции введите (!)\n",
            "Введите операцию (+, -, *, /): !\n"
          ]
        }
      ]
    },
    {
      "cell_type": "markdown",
      "source": [
        "# Задание 4: Переменные и операторы"
      ],
      "metadata": {
        "id": "we9Qt9nDsVxj"
      }
    },
    {
      "cell_type": "markdown",
      "source": [
        "Напишите программу для преобразования температуры из Цельсия в Фаренгейты и обратно (формулы: C = (F - 32) * 5/9, F = C * 9/5 + 32)."
      ],
      "metadata": {
        "id": "MM2_qTzpsaEW"
      }
    },
    {
      "cell_type": "code",
      "source": [
        "print(\"Программа по переводу градусов из Фаренгейт в Цельсия и наоборот\")\n",
        "operation = input(\"Введите текущую шкалу градусов (C, F): \")\n",
        "number = int(input(\"Введите число градусов: \"))\n",
        "\n",
        "if operation == \"C\": print(number * 9/5 + 32)\n",
        "if operation == \"F\": print((number - 32) * 5/9)"
      ],
      "metadata": {
        "colab": {
          "base_uri": "https://localhost:8080/"
        },
        "id": "IfjT7yOssfdI",
        "outputId": "3ca6def5-59fc-4a1e-8adb-0d5e76ab1428"
      },
      "execution_count": 20,
      "outputs": [
        {
          "output_type": "stream",
          "name": "stdout",
          "text": [
            "Программа по переводу градусов из Фаренгейт в Цельсия и наоборот\n",
            "Введите текущую шкалу градусов (C, F): C\n",
            "Введите число градусов: 0\n",
            "32.0\n"
          ]
        }
      ]
    }
  ]
}