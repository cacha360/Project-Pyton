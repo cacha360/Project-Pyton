{
  "nbformat": 4,
  "nbformat_minor": 0,
  "metadata": {
    "colab": {
      "provenance": []
    },
    "kernelspec": {
      "name": "python3",
      "display_name": "Python 3"
    },
    "language_info": {
      "name": "python"
    }
  },
  "cells": [
    {
      "cell_type": "markdown",
      "source": [
        "# Задание 1: Обработка изображений"
      ],
      "metadata": {
        "id": "whSh6BtgzCnI"
      }
    },
    {
      "cell_type": "markdown",
      "source": [
        "Используйте библиотеку `Pillow` или `opencv python` для загрузки изображения в форматах jpg и png. Если загружен файл png, проверьте, содержит ли он прозрачные пиксели и если да, то сделайте такие пиксели белыми непрозрачными.\n",
        "\n",
        "Изучите документацию библиотек: Перед началом работы обязательно ознакомьтесь с документацией библиотек Pillow и opencv python. Это поможет вам понять, какие функции доступны для загрузки и обработки изображений. Например, в Pillow вы можете использовать метод Image.open () для загрузки изображения, а в opencv python функцию cv2.imread(). Обратите внимание на параметры, которые позволяют работать с альфа каналом при загрузке PNG файлов."
      ],
      "metadata": {
        "id": "FLjtPPWdzfII"
      }
    },
    {
      "cell_type": "code",
      "execution_count": 5,
      "metadata": {
        "id": "JtGha6IEy-2i",
        "colab": {
          "base_uri": "https://localhost:8080/"
        },
        "outputId": "ee623190-ed21-419c-8982-4be3850f46e5"
      },
      "outputs": [
        {
          "output_type": "stream",
          "name": "stdout",
          "text": [
            "Requirement already satisfied: Pillow in /usr/local/lib/python3.10/dist-packages (11.0.0)\n"
          ]
        }
      ],
      "source": [
        "pip install Pillow # Установка библиотеки Pillow, на всякий случай если она не установлена."
      ]
    },
    {
      "cell_type": "code",
      "source": [
        "from PIL import Image\n",
        "\n",
        "def process_image(file_path):\n",
        "    # Загружаю изображение\n",
        "    img = Image.open(file_path)\n",
        "    print(f\"Загружено изображение: {file_path}, формат: {img.format}, режим: {img.mode}\")\n",
        "\n",
        "    # Проверяю, является ли изображение PNG\n",
        "    if img.format == 'PNG':\n",
        "        print(\"Обрабатываем изображение PNG...\")\n",
        "        # Проверяю наличие альфа-канала (прозрачности)\n",
        "        if img.mode in ('RGBA', 'LA') or (img.mode == 'P' and 'transparency' in img.info):\n",
        "            print(\"Найдены прозрачные пиксели. Заменяем их на белые.\")\n",
        "            # Создаю новое изображение с белым фоном\n",
        "            new_img = Image.new(\"RGB\", img.size, (255, 255, 255))\n",
        "            new_img.paste(img, (0, 0), img)  # Накладываю оригинальное изображение на белый фон\n",
        "            img = new_img  # Переназначаю img на новое изображение\n",
        "        else:\n",
        "            print(\"Прозрачные пиксели не найдены.\")\n",
        "\n",
        "    # Сохраняю изображение в формате JPG\n",
        "    output_path = file_path.rsplit('.', 1)[0] + '_processed.jpg'\n",
        "    img.convert('RGB').save(output_path, 'JPEG')\n",
        "    print(f\"Изображение сохранено как: {output_path}\")"
      ],
      "metadata": {
        "id": "RO3yL1VXOk__"
      },
      "execution_count": 35,
      "outputs": []
    },
    {
      "cell_type": "markdown",
      "source": [
        "Так как не мог найти прозрачное изображение, пришлось его генерировать."
      ],
      "metadata": {
        "id": "qSGnpH97jm7h"
      }
    },
    {
      "cell_type": "code",
      "source": [
        "from PIL import Image\n",
        "\n",
        "def create_transparent_png(width, height, output_path):\n",
        "    # Создаю новое изображение с прозрачным фоном\n",
        "    transparent_img = Image.new(\"RGBA\", (width, height), (255, 255, 255, 0))\n",
        "\n",
        "    # Рисую красный прямоугольник с прозрачным фоном\n",
        "    for x in range(50, 150):\n",
        "        for y in range(50, 150):\n",
        "            transparent_img.putpixel((x, y), (255, 0, 0, 255))  # Красный цвет (R, G, B, A)\n",
        "\n",
        "    # Сохраняю изображение\n",
        "    transparent_img.save(output_path, \"PNG\")\n",
        "    print(f\"Создано изображение: {output_path}\")\n",
        "\n",
        "# Применение функции для генерации\n",
        "width = 300  # Ширина изображения\n",
        "height = 300  # Высота изображения\n",
        "output_path = \"image.png\"  # Путь для сохранения изображения\n",
        "create_transparent_png(width, height, output_path)"
      ],
      "metadata": {
        "colab": {
          "base_uri": "https://localhost:8080/"
        },
        "id": "qHMOfhjwjutk",
        "outputId": "2901ba9d-c495-45d2-b25a-5ed7949b6352"
      },
      "execution_count": 36,
      "outputs": [
        {
          "output_type": "stream",
          "name": "stdout",
          "text": [
            "Создано изображение: image.png\n"
          ]
        }
      ]
    },
    {
      "cell_type": "markdown",
      "source": [
        "Не получалось выполнить код, так как программа не видела файл поэтому пришлось много тестировать и увеличивать объем кода заимствую код из Task3."
      ],
      "metadata": {
        "id": "F8rFK_zeZrgu"
      }
    },
    {
      "cell_type": "markdown",
      "source": [
        "С помощью кода ниже проверяю, что программа видит файл."
      ],
      "metadata": {
        "id": "VmR8mq0ifDqz"
      }
    },
    {
      "cell_type": "code",
      "source": [
        "# Для проверки начального изображение. Оно должно существовать. Само оно не генерируется. Уже генерируется.\n",
        "\n",
        "import matplotlib.pyplot as plt\n",
        "from PIL import Image\n",
        "\n",
        "# Нужно указывать полный путь до файла иначе не работает.\n",
        "file_path = input(\"Укажите полный путь до вашего изображения, при указании только имени файла не работает: \")\n",
        "\n",
        "try:\n",
        "    image = Image.open(file_path) # При помощи open открываем изображение для работы с ним.\n",
        "except FileNotFoundError:\n",
        "    print(\"Файл не найден. Пожалуйста, проверьте имя файла.\")\n",
        "    exit()\n",
        "\n",
        "plt.imshow(image)\n",
        "plt.show() # Проверяю, что программа видит файл. Показывает значит видит."
      ],
      "metadata": {
        "colab": {
          "base_uri": "https://localhost:8080/",
          "height": 452
        },
        "id": "3IBlcRhiXLNe",
        "outputId": "38ec7545-d405-49bb-bbbf-bea5a0bfe468"
      },
      "execution_count": 37,
      "outputs": [
        {
          "name": "stdout",
          "output_type": "stream",
          "text": [
            "Укажите полный путь до вашего изображения, при указании только имени файла не работает: /content/image.png\n"
          ]
        },
        {
          "output_type": "display_data",
          "data": {
            "text/plain": [
              "<Figure size 640x480 with 1 Axes>"
            ],
            "image/png": "[encoded data removed]"
          },
          "metadata": {}
        }
      ]
    },
    {
      "cell_type": "markdown",
      "source": [
        "Код ниже для вызова функции замены прозрачных пикселей файла формата png на белые."
      ],
      "metadata": {
        "id": "yLFNm-38kZzO"
      }
    },
    {
      "cell_type": "code",
      "source": [
        "# Нужно указывать полный путь до файла иначе не работает.\n",
        "file_path = input(\"Укажите полный путь до вашего изображения, при указании только имени файла не работает: \")\n",
        "\n",
        "# Наконец полсе того как я вижу, что программа видит файл выполняю функцию.\n",
        "process_image(file_path)"
      ],
      "metadata": {
        "colab": {
          "base_uri": "https://localhost:8080/"
        },
        "id": "pSjO5aSbevZ-",
        "outputId": "42a5bd02-da92-496f-c581-9f4d1e62ee2d"
      },
      "execution_count": 38,
      "outputs": [
        {
          "output_type": "stream",
          "name": "stdout",
          "text": [
            "Укажите полный путь до вашего изображения, при указании только имени файла не работает: /content/image.png\n",
            "Загружено изображение: /content/image.png, формат: PNG, режим: RGBA\n",
            "Обрабатываем изображение PNG...\n",
            "Найдены прозрачные пиксели. Заменяем их на белые.\n",
            "Изображение сохранено как: /content/image_processed.jpg\n"
          ]
        }
      ]
    },
    {
      "cell_type": "markdown",
      "source": [
        "Исходное и конечное изображения выглядят одинаково, но по результату программы, разница есть и похоже все работает. Наконец-то."
      ],
      "metadata": {
        "id": "zwWDf7bil-Ne"
      }
    },
    {
      "cell_type": "markdown",
      "source": [
        "# Задание 2: Обработка изображений"
      ],
      "metadata": {
        "id": "9wog26q_0U4G"
      }
    },
    {
      "cell_type": "markdown",
      "source": [
        "Реализуйте функции для изменения размера изображения, конвертации в черно белое и применения фильтра Гаусса (размытие).\n",
        "\n",
        "Ознакомьтесь с функциями, которые предоставляют Pillow и opencv python для работы с изображениями. В Pillow вы можете использовать метод resize () для изменения размера, метод convert () для конвертации в черно белое, а также метод filter () с фильтром ImageFilter.GaussianBlur () для размытия. В opencv python используйте cv2.resize() для изменения размера, cv2.cvtColor() для конвертации в оттенки серого и cv2.GaussianBlur() для применения фильтра Гаусса."
      ],
      "metadata": {
        "id": "iCjk4cjr0SYx"
      }
    },
    {
      "cell_type": "markdown",
      "source": [
        "Ниже сами функции."
      ],
      "metadata": {
        "id": "2FfqRjPLpSRN"
      }
    },
    {
      "cell_type": "code",
      "source": [
        "from PIL import Image, ImageFilter\n",
        "\n",
        "def resize_image(input_path, output_path, new_size):\n",
        "    \"\"\"Изменяет размер изображения.\"\"\"\n",
        "    img = Image.open(input_path)\n",
        "    resized_img = img.resize(new_size)\n",
        "    resized_img.save(output_path)\n",
        "    print(f\"Изображение изменено в размере и сохранено как: {output_path}\")\n",
        "\n",
        "def convert_to_black_and_white(input_path, output_path):\n",
        "    \"\"\"Конвертирует изображение в черно-белое.\"\"\"\n",
        "    img = Image.open(input_path)\n",
        "\n",
        "    # Начал изобретать велосипед так как при отображении в косоли черно белого изображение красный показывало черным, а белый желтым.\n",
        "    # При открытии файлов вне консоли файлы выглядят черно белыми.\n",
        "    # Преобразую изображение в RGB, если оно не в RGB\n",
        "    if img.mode != 'RGB':\n",
        "        img = img.convert('RGB')\n",
        "\n",
        "    # Конвертирую в черно-белое\n",
        "    bw_img = img.convert(\"L\")  # 'L' - это режим для черно-белого изображения\n",
        "    bw_img.save(output_path)\n",
        "    print(f\"Изображение конвертировано в черно-белое и сохранено как: {output_path}\")\n",
        "\n",
        "def apply_gaussian_blur(input_path, output_path, radius):\n",
        "    \"\"\"Применяет фильтр Гаусса (размытие) к изображению.\"\"\"\n",
        "    img = Image.open(input_path)\n",
        "    blurred_img = img.filter(ImageFilter.GaussianBlur(radius))\n",
        "    blurred_img.save(output_path)\n",
        "    print(f\"Фильтр Гаусса применен и изображение сохранено как: {output_path}\")"
      ],
      "metadata": {
        "id": "X9-kVPSC0kJO"
      },
      "execution_count": 50,
      "outputs": []
    },
    {
      "cell_type": "markdown",
      "source": [
        "Запуск функции изменения размера изображения."
      ],
      "metadata": {
        "id": "6wY4HQ4upc5r"
      }
    },
    {
      "cell_type": "code",
      "source": [
        "# Изменение размера изображения\n",
        "input_image_path = input(\"Введите путь к входному изображению: \")\n",
        "resized_image_path = \"resized_image.png\"\n",
        "\n",
        "while True:\n",
        "    try:\n",
        "        width = int(input(\"Введите новую ширину изображения (в пикселях): \"))\n",
        "        height = int(input(\"Введите новую высоту изображения (в пикселях): \"))\n",
        "        new_size = (width, height)\n",
        "        break\n",
        "    except ValueError:\n",
        "        print(\"Пожалуйста, введите целые числа для ширины и высоты.\")\n",
        "\n",
        "print(f\"Изменение размера изображения на {new_size[0]}x{new_size[1]} пикселей...\")\n",
        "resize_image(input_image_path, resized_image_path, new_size)\n",
        "print(\"Изменение размера завершено.\")"
      ],
      "metadata": {
        "colab": {
          "base_uri": "https://localhost:8080/"
        },
        "id": "BCJUL9WowgXD",
        "outputId": "61420248-1e2c-4bd7-ea98-ca8b51e91194"
      },
      "execution_count": 73,
      "outputs": [
        {
          "output_type": "stream",
          "name": "stdout",
          "text": [
            "Введите путь к входному изображению: /content/image.png\n",
            "Введите новую ширину изображения (в пикселях): 10\n",
            "Введите новую высоту изображения (в пикселях): 10\n",
            "Изменение размера изображения на 10x10 пикселей...\n",
            "Изображение изменено в размере и сохранено как: resized_image.png\n",
            "Изменение размера завершено.\n"
          ]
        }
      ]
    },
    {
      "cell_type": "markdown",
      "source": [
        "Запуск функции изменения на черно белое изображение изображения."
      ],
      "metadata": {
        "id": "NXKt4X8l1tYu"
      }
    },
    {
      "cell_type": "code",
      "source": [
        "# Конвертация в черно-белое\n",
        "\n",
        "input_image_path = input(\"Введите путь к входному изображению: \")\n",
        "bw_image_path = \"bw_image.png\"\n",
        "\n",
        "convert_to_black_and_white(input_image_path, bw_image_path)"
      ],
      "metadata": {
        "colab": {
          "base_uri": "https://localhost:8080/"
        },
        "id": "O6VQintepZN-",
        "outputId": "4d960fba-0f4b-49a0-ffc3-a986af80209e"
      },
      "execution_count": 74,
      "outputs": [
        {
          "output_type": "stream",
          "name": "stdout",
          "text": [
            "Введите путь к входному изображению: /content/image.png\n",
            "Изображение конвертировано в черно-белое и сохранено как: bw_image.png\n"
          ]
        }
      ]
    },
    {
      "cell_type": "markdown",
      "source": [
        "Запуск функции применения размытия Гаусса."
      ],
      "metadata": {
        "id": "79mHyt4s2R1o"
      }
    },
    {
      "cell_type": "code",
      "source": [
        "# Применение размытия Гаусса\n",
        "input_image_path = input(\"Введите путь к входному изображению: \")\n",
        "blurred_image_path = \"blurred_image.png\"\n",
        "\n",
        "# Проверка ввода радиуса размытия\n",
        "while True:\n",
        "    try:\n",
        "        blur_radius = float(input(\"Введите радиус размытия (например, 5): \"))\n",
        "        if blur_radius < 0:\n",
        "            print(\"Радиус размытия должен быть неотрицательным числом. Попробуйте еще раз.\")\n",
        "        else:\n",
        "            break\n",
        "    except ValueError:\n",
        "        print(\"Пожалуйста, введите числовое значение для радиуса размытия.\")\n",
        "\n",
        "apply_gaussian_blur(input_image_path, blurred_image_path, blur_radius)"
      ],
      "metadata": {
        "colab": {
          "base_uri": "https://localhost:8080/"
        },
        "id": "aeiwisebz13a",
        "outputId": "fb0ea1f7-f5d4-40c9-f1db-777478ebf755"
      },
      "execution_count": 75,
      "outputs": [
        {
          "output_type": "stream",
          "name": "stdout",
          "text": [
            "Введите путь к входному изображению: /content/image.png\n",
            "Введите радиус размытия (например, 5): 5\n",
            "Фильтр Гаусса применен и изображение сохранено как: blurred_image.png\n"
          ]
        }
      ]
    },
    {
      "cell_type": "markdown",
      "source": [
        "Код ниже для проверки изображений."
      ],
      "metadata": {
        "id": "CkNpL_R_pIhP"
      }
    },
    {
      "cell_type": "code",
      "source": [
        "# Код для проверки начального и конечных изображений.\n",
        "import matplotlib.pyplot as plt\n",
        "from PIL import Image\n",
        "\n",
        "# Нужно указывать полный путь до файла иначе не работает.\n",
        "file_path = input(\"Укажите полный путь до вашего изображения, при указании только имени файла не работает: \")\n",
        "\n",
        "try:\n",
        "    image = Image.open(file_path) # При помощи open открываем изображение для работы с ним.\n",
        "except FileNotFoundError:\n",
        "    print(\"Файл не найден. Пожалуйста, проверьте имя файла.\")\n",
        "    exit()\n",
        "\n",
        "plt.imshow(image)\n",
        "plt.show() # Проверяю, что программа видит файл. Показывает значит видит."
      ],
      "metadata": {
        "colab": {
          "base_uri": "https://localhost:8080/",
          "height": 452
        },
        "id": "deERzuFRn1Y3",
        "outputId": "15a15e8b-3837-4722-9a57-9ff17980cdc7"
      },
      "execution_count": 70,
      "outputs": [
        {
          "name": "stdout",
          "output_type": "stream",
          "text": [
            "Укажите полный путь до вашего изображения, при указании только имени файла не работает: /content/blurred_image.png\n"
          ]
        },
        {
          "output_type": "display_data",
          "data": {
            "text/plain": [
              "<Figure size 640x480 with 1 Axes>"
            ],
            "image/png": "[encoded data removed]"
          },
          "metadata": {}
        }
      ]
    },
    {
      "cell_type": "markdown",
      "source": [
        "# Задание 3: Использование Git"
      ],
      "metadata": {
        "id": "KtFAk7N31UCu"
      }
    },
    {
      "cell_type": "markdown",
      "source": [
        "Научитесь делать коммиты изменений, создавать ветки и объединять их с основной веткой через `merge` или `rebase`. Опубликуйте ваш проект на GitHub , GitLab или другой платформе для ведения версий кода.\n",
        "\n",
        "Для успешного выполнения задания внимательно ознакомьтесь с основными командами Git для работы с коммитами и ветками, а затем опубликуйте свой проект на выбранной платформе, следуя шагам для создания удаленного репозитория и настройки подключения."
      ],
      "metadata": {
        "id": "6OsqzOyM1U-c"
      }
    },
    {
      "cell_type": "code",
      "source": [],
      "metadata": {
        "id": "V0XyaBs214WA"
      },
      "execution_count": null,
      "outputs": []
    },
    {
      "cell_type": "markdown",
      "source": [
        "# Задание 4: Использование Git"
      ],
      "metadata": {
        "id": "fS4gpe3X18eE"
      }
    },
    {
      "cell_type": "markdown",
      "source": [
        "Научитесь делать коммиты изменений, создавать ветки и объединять их с основной веткой через merge или rebase. Опубликуйте ваш проект на GitHub, GitLab или другой платформе для ведения версий кода.\n",
        "\n",
        "Для успешного выполнения задания внимательно ознакомьтесь с основными командами Git для работы с коммитами и ветками, а затем опубликуйте свой проект на выбранной платформе, следуя шагам для создания удаленного репозитория и настройки подключения."
      ],
      "metadata": {
        "id": "wRHJpfRr19YY"
      }
    },
    {
      "cell_type": "code",
      "source": [],
      "metadata": {
        "id": "O-drxSdS19v6"
      },
      "execution_count": null,
      "outputs": []
    },
    {
      "cell_type": "markdown",
      "source": [],
      "metadata": {
        "id": "1bYlDhmu3Szo"
      }
    }
  ]
}