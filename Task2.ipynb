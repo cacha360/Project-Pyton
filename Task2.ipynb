{
  "nbformat": 4,
  "nbformat_minor": 0,
  "metadata": {
    "colab": {
      "provenance": [],
      "toc_visible": true
    },
    "kernelspec": {
      "name": "python3",
      "display_name": "Python 3"
    },
    "language_info": {
      "name": "python"
    }
  },
  "cells": [
    {
      "cell_type": "markdown",
      "source": [
        "# Задание 1: Циклы и условные операторы"
      ],
      "metadata": {
        "id": "cf_EGga040ha"
      }
    },
    {
      "cell_type": "markdown",
      "source": [
        "Написать программу, которая выводит на экран все четные числа в заданном диапазоне (начало и конец диапазона вводятся пользователем)."
      ],
      "metadata": {
        "id": "YaejztM245my"
      }
    },
    {
      "cell_type": "markdown",
      "source": [
        "Вспомните (нагуглите ), что такое четное число.\n",
        "Реализуйте алгоритм, который будет включать в себя цикл для перебора чисел в диапазоне и условие для проверки каждого числа на четность."
      ],
      "metadata": {
        "id": "N4al5h0z5Gfs"
      }
    },
    {
      "cell_type": "code",
      "execution_count": 2,
      "metadata": {
        "colab": {
          "base_uri": "https://localhost:8080/"
        },
        "id": "gjtbP_wO4Hzd",
        "outputId": "1decae72-3cc7-4c60-8bc1-2fb026ec6cde"
      },
      "outputs": [
        {
          "output_type": "stream",
          "name": "stdout",
          "text": [
            "Программа выводящая четные числа в диапазоне.\n",
            "Введите первое число: 0\n",
            "Введите второе число: 10\n",
            "0\n",
            "2\n",
            "4\n",
            "6\n",
            "8\n",
            "10\n"
          ]
        }
      ],
      "source": [
        "print(\"Программа выводящая четные числа в диапазоне.\")\n",
        "first_number = int(input(\"Введите первое число: \"))\n",
        "second_number = int(input(\"Введите второе число: \"))\n",
        "\n",
        "while first_number <= second_number:\n",
        "    if first_number % 2 == 0:\n",
        "        print(first_number)\n",
        "    first_number += 1"
      ]
    },
    {
      "cell_type": "markdown",
      "source": [
        "# Задание 2: Циклы и условные операторы"
      ],
      "metadata": {
        "id": "k4UdNNpx5UZz"
      }
    },
    {
      "cell_type": "markdown",
      "source": [
        "Проверить, является ли введенная строка палиндромом (игнорируя регистры и пробелы)."
      ],
      "metadata": {
        "id": "qNeZvly05Z9s"
      }
    },
    {
      "cell_type": "markdown",
      "source": [
        "Палиндром - это слово или фраза, которые читаются одинаково слева направо и справа налево.\n",
        "Циклы помогут вам пройти по каждому символу строки, а условные операторы позволят сравнивать символы и принимать решения на основе их значений."
      ],
      "metadata": {
        "id": "34t-ZAut5jYr"
      }
    },
    {
      "cell_type": "code",
      "source": [
        "print(\"Программа проверки палиндромов.\")\n",
        "string_row = input(\"Введите строку: \")\n",
        "\n",
        "string_lower = string_row.lower()\n",
        "string_out_of_space = string_lower.replace(\" \", \"\")\n",
        "reflected_string = string_out_of_space[::-1]\n",
        "\n",
        "if string_out_of_space == reflected_string:\n",
        "    print(\"Палиндром\")\n",
        "    print(string_out_of_space)\n",
        "    print(reflected_string)\n",
        "else:\n",
        "    print(\"Не палиндром\")\n",
        "    print(string_out_of_space)\n",
        "    print(reflected_string)"
      ],
      "metadata": {
        "colab": {
          "base_uri": "https://localhost:8080/"
        },
        "id": "h3vMtX8l52h_",
        "outputId": "cbd1d5b1-2cd7-4add-ba79-1cb95cb554c1"
      },
      "execution_count": 9,
      "outputs": [
        {
          "output_type": "stream",
          "name": "stdout",
          "text": [
            "Программа проверки палиндромов.\n",
            "Введите строку: Was it a car or a cat I saw\n",
            "Палиндром\n",
            "wasitacaroracatisaw\n",
            "wasitacaroracatisaw\n"
          ]
        }
      ]
    },
    {
      "cell_type": "markdown",
      "source": [
        "# Задание 3: Функции"
      ],
      "metadata": {
        "id": "qy_9s48R55M_"
      }
    },
    {
      "cell_type": "markdown",
      "source": [
        "Написать функцию, которая принимает на вход список чисел и возвращает их сумму, произведение и среднее арифметическое."
      ],
      "metadata": {
        "id": "MgO5HYc75-JZ"
      }
    },
    {
      "cell_type": "markdown",
      "source": [
        "Разделите задачу на подзадачи: для вычисления суммы и произведения чисел можно использовать встроенные функции sum и product в Python, а для среднего арифметического деление суммы на количество элементов."
      ],
      "metadata": {
        "id": "K0tGD3g16EuH"
      }
    },
    {
      "cell_type": "code",
      "source": [
        "import math\n",
        "\n",
        "def calculate_numbers(numbers):\n",
        "    total = sum(numbers)\n",
        "    product = math.prod(numbers)\n",
        "    mean = total / len(numbers)\n",
        "    return total, product, mean\n",
        "\n",
        "\n",
        "print(\"Программа выводящая сумму, произведение и среднее арифметическое чисел.\")\n",
        "numbers = input(\"Введите список чисел, разделенных пробелом: \")\n",
        "\n",
        "list_of_numbers = [float(x) for x in numbers.split()]\n",
        "total, product, mean = calculate_numbers(list_of_numbers)\n",
        "\n",
        "print(\"Сумма:\", total)\n",
        "print(\"Произведение:\", product)\n",
        "print(\"Среднее арифметическое:\", mean)"
      ],
      "metadata": {
        "colab": {
          "base_uri": "https://localhost:8080/"
        },
        "id": "IRmM1Kc26Umx",
        "outputId": "9ba29b39-23a9-4308-c079-24b8107691dd"
      },
      "execution_count": 15,
      "outputs": [
        {
          "output_type": "stream",
          "name": "stdout",
          "text": [
            "Программа выводящая сумму, произведение и среднее арифметическое чисел.\n",
            "Введите список чисел, разделенных пробелом: 1 2 3 4 5\n",
            "Сумма: 15.0\n",
            "Произведение: 120.0\n",
            "Среднее арифметическое: 3.0\n"
          ]
        }
      ]
    },
    {
      "cell_type": "markdown",
      "source": [
        "# Задание 4: Функции"
      ],
      "metadata": {
        "id": "k96Chlo66VGg"
      }
    },
    {
      "cell_type": "markdown",
      "source": [
        "Создать функцию для нахождения НОД (наибольшего общего делителя) двух чисел с использованием алгоритма Евклида."
      ],
      "metadata": {
        "id": "jzVBWmnN6aKD"
      }
    },
    {
      "cell_type": "markdown",
      "source": [
        "Алгоритм Евклида заключается в последовательном делении большего числа на меньшее, пока одно из чисел не станет равным нулю. Остаток от последнего деления и будет НОД.\n",
        "Используйте функции и циклы (например, while)."
      ],
      "metadata": {
        "id": "k_LSP7rs6gT3"
      }
    },
    {
      "cell_type": "code",
      "source": [
        "def NOD(a, b):\n",
        "    while b != 0:\n",
        "        a, b = b, a % b\n",
        "    return a\n",
        "\n",
        "\n",
        "print(\"Программа выводящая Наибольший Общий Делитель (NOD).\")\n",
        "numbers = input(\"Введите два числа, разделенных пробелом: \")\n",
        "\n",
        "list_of_numbers = [int(x) for x in numbers.split()]\n",
        "\n",
        "print(\"НОД(\", list_of_numbers[0], \",\", list_of_numbers[1], \") =\", NOD(list_of_numbers[0], list_of_numbers[1]))"
      ],
      "metadata": {
        "colab": {
          "base_uri": "https://localhost:8080/"
        },
        "id": "B6QKy-mx6f1h",
        "outputId": "5eec0f92-328c-4f1b-8c25-7ae63efac7e2"
      },
      "execution_count": 14,
      "outputs": [
        {
          "output_type": "stream",
          "name": "stdout",
          "text": [
            "Программа выводящая Наибольший Общий Делитель (NOD).\n",
            "Введите два числа, разделенных пробелом: 12 15\n",
            "НОД( 12 , 15 ) = 3\n"
          ]
        }
      ]
    }
  ]
}